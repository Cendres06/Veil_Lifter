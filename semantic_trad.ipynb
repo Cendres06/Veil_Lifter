{
 "cells": [
  {
   "cell_type": "code",
   "execution_count": 1,
   "id": "45f2e546",
   "metadata": {},
   "outputs": [],
   "source": [
    "#!/usr/bin/env python\n",
    "\"\"\"non_supervise: Advanced Pipeline of TF-IDF.\"\"\"\n",
    "\n",
    "__author__      = \"Louis-Fiacre Franchet d'Espèrey\"\n",
    "__copyright__   = \"Copyright 2022\"\n",
    "__commentary__ = \"Adaptated by Perrine Maurel with the explicit agreement of {__author__} and the help of Violette Saïag.\""
   ]
  },
  {
   "cell_type": "code",
   "execution_count": 2,
   "id": "019b3683",
   "metadata": {},
   "outputs": [],
   "source": [
    "import os\n",
    "import pandas as pd\n",
    "import utilities"
   ]
  },
  {
   "cell_type": "code",
   "execution_count": 25,
   "id": "47279a57",
   "metadata": {},
   "outputs": [],
   "source": [
    "dir_fr = \"../../textes_fr\"\n",
    "dir_en = \"../../textes_en\"\n",
    "titres_en = [name_file for name_file in os.listdir(dir_en) if name_file.endswith('.txt')]\n",
    "titres_fr = [name_file for name_file in os.listdir(dir_fr) if name_file.endswith('.txt')]"
   ]
  },
  {
   "cell_type": "code",
   "execution_count": 4,
   "id": "5a7ab8a6",
   "metadata": {},
   "outputs": [],
   "source": [
    "list_textes_en = [] #on crée une liste vide pour accueillir nos résultats\n",
    "for titre in titres_en :\n",
    "    with open(os.path.join(dir_en,titre), 'r', encoding='utf-8') as file: #on ouvre et on lit le fichier\n",
    "        list_textes_en.append(file.read())"
   ]
  },
  {
   "cell_type": "code",
   "execution_count": 26,
   "id": "d2e2a4a6",
   "metadata": {},
   "outputs": [],
   "source": [
    "list_textes_fr = [] #on crée une liste vide pour accueillir nos résultats\n",
    "for titre in titres_fr :\n",
    "    with open(os.path.join(dir_fr,titre), 'r', encoding='utf-8') as file: #on ouvre et on lit le fichier\n",
    "        list_textes_fr.append(file.read())"
   ]
  },
  {
   "attachments": {},
   "cell_type": "markdown",
   "id": "13e83de8",
   "metadata": {},
   "source": [
    "## On crée le corpus"
   ]
  },
  {
   "cell_type": "code",
   "execution_count": 5,
   "id": "858e7126",
   "metadata": {},
   "outputs": [],
   "source": [
    "metadonnees_en = utilities.path_extension(\"en_trad/bd_en\",True,lecture=True)\n",
    "metadonnees_fr = utilities.path_extension(\"bd_fr\",True,lecture=True)"
   ]
  },
  {
   "cell_type": "code",
   "execution_count": 6,
   "id": "ca66bbd4",
   "metadata": {},
   "outputs": [
    {
     "data": {
      "text/html": [
       "<div>\n",
       "<style scoped>\n",
       "    .dataframe tbody tr th:only-of-type {\n",
       "        vertical-align: middle;\n",
       "    }\n",
       "\n",
       "    .dataframe tbody tr th {\n",
       "        vertical-align: top;\n",
       "    }\n",
       "\n",
       "    .dataframe thead th {\n",
       "        text-align: right;\n",
       "    }\n",
       "</style>\n",
       "<table border=\"1\" class=\"dataframe\">\n",
       "  <thead>\n",
       "    <tr style=\"text-align: right;\">\n",
       "      <th></th>\n",
       "      <th>id</th>\n",
       "      <th>Titre</th>\n",
       "      <th>Auteurice(s)</th>\n",
       "      <th>Traducteurice(s)</th>\n",
       "      <th>Date de création</th>\n",
       "      <th>Image &amp; Licence</th>\n",
       "      <th>Remerciements</th>\n",
       "      <th>Commentaires</th>\n",
       "      <th>Autres</th>\n",
       "    </tr>\n",
       "  </thead>\n",
       "  <tbody>\n",
       "    <tr>\n",
       "      <th>0</th>\n",
       "      <td>/scp-2994</td>\n",
       "      <td>SCP-2994 - Interactive Whiteboards</td>\n",
       "      <td>Sound Chaser</td>\n",
       "      <td>Dr Dharma</td>\n",
       "      <td>2014-09-26 00:00:00</td>\n",
       "      <td>Non-assigné</td>\n",
       "      <td>Non-assigné</td>\n",
       "      <td>Non-assigné</td>\n",
       "      <td>Non-assigné</td>\n",
       "    </tr>\n",
       "    <tr>\n",
       "      <th>1</th>\n",
       "      <td>/scp-6187</td>\n",
       "      <td>SCP-6187 - From Space With Love</td>\n",
       "      <td>Dr Leonerd</td>\n",
       "      <td>Mars la Grise</td>\n",
       "      <td>2022-02-14 00:00:00</td>\n",
       "      <td>Globular star cluster Messier 4 de ESO Imaging...</td>\n",
       "      <td>Non-assigné</td>\n",
       "      <td>Non-assigné</td>\n",
       "      <td>Non-assigné</td>\n",
       "    </tr>\n",
       "    <tr>\n",
       "      <th>2</th>\n",
       "      <td>/scp-746</td>\n",
       "      <td>SCP-746 - Pseudo-Avian</td>\n",
       "      <td>Original par Dexanote, réécrit par Baronjoe</td>\n",
       "      <td>Karnot</td>\n",
       "      <td>2018-07-07 00:00:00</td>\n",
       "      <td>* Contenu original</td>\n",
       "      <td>Non-assigné</td>\n",
       "      <td>Non-assigné</td>\n",
       "      <td>Non-assigné</td>\n",
       "    </tr>\n",
       "    <tr>\n",
       "      <th>3</th>\n",
       "      <td>/scp-3681</td>\n",
       "      <td>SCP-3681 - 5 - 0</td>\n",
       "      <td>macro_au_micro</td>\n",
       "      <td>macro_au_micro</td>\n",
       "      <td>2019-03-11 00:00:00</td>\n",
       "      <td>Image du ballon</td>\n",
       "      <td>Non-assigné</td>\n",
       "      <td>Non-assigné</td>\n",
       "      <td>Non-assigné</td>\n",
       "    </tr>\n",
       "    <tr>\n",
       "      <th>4</th>\n",
       "      <td>/scp-403</td>\n",
       "      <td>SCP-403 - Escalating Lighter</td>\n",
       "      <td>LitigousReport</td>\n",
       "      <td>Douger-arched</td>\n",
       "      <td>2009-05-25 00:00:00</td>\n",
       "      <td>Informations manquantes</td>\n",
       "      <td>Non-assigné</td>\n",
       "      <td>Non-assigné</td>\n",
       "      <td>Non-assigné</td>\n",
       "    </tr>\n",
       "    <tr>\n",
       "      <th>...</th>\n",
       "      <td>...</td>\n",
       "      <td>...</td>\n",
       "      <td>...</td>\n",
       "      <td>...</td>\n",
       "      <td>...</td>\n",
       "      <td>...</td>\n",
       "      <td>...</td>\n",
       "      <td>...</td>\n",
       "      <td>...</td>\n",
       "    </tr>\n",
       "    <tr>\n",
       "      <th>3518</th>\n",
       "      <td>/scp-727</td>\n",
       "      <td>SCP-727 - Hephaestus's Forge</td>\n",
       "      <td>Shebleha</td>\n",
       "      <td>D-2108</td>\n",
       "      <td>2011-06-22 00:00:00</td>\n",
       "      <td>Temple</td>\n",
       "      <td>Non-assigné</td>\n",
       "      <td>Non-assigné</td>\n",
       "      <td>Non-assigné</td>\n",
       "    </tr>\n",
       "    <tr>\n",
       "      <th>3519</th>\n",
       "      <td>/never-metafictional-character-i-liked</td>\n",
       "      <td>Never Metafictional Character I Didn't Like</td>\n",
       "      <td>The Great Hippo</td>\n",
       "      <td>Felter Finalis</td>\n",
       "      <td>2017-11-25 00:00:00</td>\n",
       "      <td>lien</td>\n",
       "      <td>Non-assigné</td>\n",
       "      <td>Non-assigné</td>\n",
       "      <td>Non-assigné</td>\n",
       "    </tr>\n",
       "    <tr>\n",
       "      <th>3520</th>\n",
       "      <td>/detained</td>\n",
       "      <td>Detained</td>\n",
       "      <td>Randomini</td>\n",
       "      <td>TheEulays</td>\n",
       "      <td>2013-12-19 00:00:00</td>\n",
       "      <td>Non-assigné</td>\n",
       "      <td>Non-assigné</td>\n",
       "      <td>Non-assigné</td>\n",
       "      <td>Non-assigné</td>\n",
       "    </tr>\n",
       "    <tr>\n",
       "      <th>3521</th>\n",
       "      <td>/threat-of-joy</td>\n",
       "      <td>Threat of Joy</td>\n",
       "      <td>TyGently</td>\n",
       "      <td>Trank</td>\n",
       "      <td>2019-06-24 00:00:00</td>\n",
       "      <td>Non-assigné</td>\n",
       "      <td>Non-assigné</td>\n",
       "      <td>Non-assigné</td>\n",
       "      <td>Non-assigné</td>\n",
       "    </tr>\n",
       "    <tr>\n",
       "      <th>3522</th>\n",
       "      <td>/scp-2079</td>\n",
       "      <td>SCP-2079 - The Law of the Grokodus</td>\n",
       "      <td>Anaxagoras</td>\n",
       "      <td>Joll</td>\n",
       "      <td>2014-11-02 00:00:00</td>\n",
       "      <td>Non-assigné</td>\n",
       "      <td>Non-assigné</td>\n",
       "      <td>Non-assigné</td>\n",
       "      <td>Non-assigné</td>\n",
       "    </tr>\n",
       "  </tbody>\n",
       "</table>\n",
       "<p>3523 rows × 9 columns</p>\n",
       "</div>"
      ],
      "text/plain": [
       "                                          id  \\\n",
       "0                                  /scp-2994   \n",
       "1                                  /scp-6187   \n",
       "2                                   /scp-746   \n",
       "3                                  /scp-3681   \n",
       "4                                   /scp-403   \n",
       "...                                      ...   \n",
       "3518                                /scp-727   \n",
       "3519  /never-metafictional-character-i-liked   \n",
       "3520                               /detained   \n",
       "3521                          /threat-of-joy   \n",
       "3522                               /scp-2079   \n",
       "\n",
       "                                            Titre  \\\n",
       "0              SCP-2994 - Interactive Whiteboards   \n",
       "1                 SCP-6187 - From Space With Love   \n",
       "2                          SCP-746 - Pseudo-Avian   \n",
       "3                                SCP-3681 - 5 - 0   \n",
       "4                    SCP-403 - Escalating Lighter   \n",
       "...                                           ...   \n",
       "3518                 SCP-727 - Hephaestus's Forge   \n",
       "3519  Never Metafictional Character I Didn't Like   \n",
       "3520                                     Detained   \n",
       "3521                                Threat of Joy   \n",
       "3522           SCP-2079 - The Law of the Grokodus   \n",
       "\n",
       "                                       Auteurice(s) Traducteurice(s)  \\\n",
       "0                                      Sound Chaser        Dr Dharma   \n",
       "1                                        Dr Leonerd    Mars la Grise   \n",
       "2     Original par Dexanote, réécrit par Baronjoe           Karnot   \n",
       "3                                    macro_au_micro   macro_au_micro   \n",
       "4                                    LitigousReport    Douger-arched   \n",
       "...                                             ...              ...   \n",
       "3518                                       Shebleha           D-2108   \n",
       "3519                                The Great Hippo   Felter Finalis   \n",
       "3520                                      Randomini        TheEulays   \n",
       "3521                                       TyGently            Trank   \n",
       "3522                                     Anaxagoras             Joll   \n",
       "\n",
       "         Date de création                                    Image & Licence  \\\n",
       "0     2014-09-26 00:00:00                                        Non-assigné   \n",
       "1     2022-02-14 00:00:00  Globular star cluster Messier 4 de ESO Imaging...   \n",
       "2     2018-07-07 00:00:00                                 * Contenu original   \n",
       "3     2019-03-11 00:00:00                                    Image du ballon   \n",
       "4     2009-05-25 00:00:00                            Informations manquantes   \n",
       "...                   ...                                                ...   \n",
       "3518  2011-06-22 00:00:00                                             Temple   \n",
       "3519  2017-11-25 00:00:00                                               lien   \n",
       "3520  2013-12-19 00:00:00                                        Non-assigné   \n",
       "3521  2019-06-24 00:00:00                                        Non-assigné   \n",
       "3522  2014-11-02 00:00:00                                        Non-assigné   \n",
       "\n",
       "     Remerciements Commentaires       Autres  \n",
       "0      Non-assigné  Non-assigné  Non-assigné  \n",
       "1      Non-assigné  Non-assigné  Non-assigné  \n",
       "2      Non-assigné  Non-assigné  Non-assigné  \n",
       "3      Non-assigné  Non-assigné  Non-assigné  \n",
       "4      Non-assigné  Non-assigné  Non-assigné  \n",
       "...            ...          ...          ...  \n",
       "3518   Non-assigné  Non-assigné  Non-assigné  \n",
       "3519   Non-assigné  Non-assigné  Non-assigné  \n",
       "3520   Non-assigné  Non-assigné  Non-assigné  \n",
       "3521   Non-assigné  Non-assigné  Non-assigné  \n",
       "3522   Non-assigné  Non-assigné  Non-assigné  \n",
       "\n",
       "[3523 rows x 9 columns]"
      ]
     },
     "execution_count": 6,
     "metadata": {},
     "output_type": "execute_result"
    }
   ],
   "source": [
    "metadonnees_en"
   ]
  },
  {
   "attachments": {},
   "cell_type": "markdown",
   "id": "1bf5db64",
   "metadata": {},
   "source": [
    "## On divise le corpus en sous-corpus à partir des traductions et des textes originaux des traducteurs"
   ]
  },
  {
   "cell_type": "code",
   "execution_count": 7,
   "id": "28353391",
   "metadata": {},
   "outputs": [],
   "source": [
    "import time"
   ]
  },
  {
   "cell_type": "code",
   "execution_count": 8,
   "id": "c32e8783",
   "metadata": {},
   "outputs": [],
   "source": [
    "def get_traducteur(id):\n",
    "    res = metadonnees_en.loc[metadonnees_en['id']==id]['Traducteurice(s)']\n",
    "    index = list(res.index)\n",
    "    return(res[index[0]])"
   ]
  },
  {
   "cell_type": "code",
   "execution_count": 9,
   "id": "c7e4fedb",
   "metadata": {},
   "outputs": [],
   "source": [
    "def get_all_works(author):\n",
    "    works = []\n",
    "    for _,row in metadonnees_fr.iterrows():\n",
    "        if utilities.is_in(author,row.loc['Auteurice(s)']):\n",
    "            works = utilities.insert_in_list_by_date((row.loc['id'],row.loc['Date de création']),works)\n",
    "    return(works)\n"
   ]
  },
  {
   "cell_type": "code",
   "execution_count": 10,
   "id": "846ff8d9",
   "metadata": {},
   "outputs": [],
   "source": [
    "def make_corpus_trad(id):\n",
    "\n",
    "    traducteur = get_traducteur(id)\n",
    "    traducteur_works = get_all_works(traducteur)\n",
    "    date=metadonnees_en.loc[metadonnees_en['id']==id]['Date de création']\n",
    "    index = list(date.index)\n",
    "    date = date[index[0]][:10]\n",
    "    if date[:2] != \"20\":\n",
    "        return []\n",
    "    date = time.strptime(date, '%Y-%m-%d')\n",
    "    valid_works = [work[0] for work in traducteur_works if work[1]>date]\n",
    "    if valid_works != []:\n",
    "        with open('../../textes_en'+id+'.txt',\"r\",encoding=\"utf-8\") as file:\n",
    "            text_trad = file.read()\n",
    "        valid_work_text = [text_trad]\n",
    "        for text_id in valid_works:\n",
    "            try:\n",
    "                open('../../textes_fr'+text_id+'.txt',\"r\",encoding=\"utf-8\")\n",
    "            except:\n",
    "                a=0\n",
    "            else:\n",
    "                with open('../../textes_fr'+text_id+'.txt',\"r\",encoding=\"utf-8\") as file:\n",
    "                    valid_work_text += [file.read()]\n",
    "        if len(valid_work_text)>1:\n",
    "            return(valid_work_text)\n",
    "        else:\n",
    "            return []\n",
    "    else:\n",
    "        return []"
   ]
  },
  {
   "cell_type": "code",
   "execution_count": 11,
   "id": "fe3f56d8",
   "metadata": {},
   "outputs": [
    {
     "data": {
      "text/plain": [
       "8"
      ]
     },
     "execution_count": 11,
     "metadata": {},
     "output_type": "execute_result"
    }
   ],
   "source": [
    "len(make_corpus_trad('/scp-180'))"
   ]
  },
  {
   "attachments": {},
   "cell_type": "markdown",
   "id": "62fb460b",
   "metadata": {},
   "source": [
    "## Traitement du sous-corpus"
   ]
  },
  {
   "cell_type": "code",
   "execution_count": 12,
   "id": "6bc611dc",
   "metadata": {},
   "outputs": [
    {
     "name": "stderr",
     "output_type": "stream",
     "text": [
      "c:\\Users\\Perrine\\anaconda3\\lib\\site-packages\\spacy\\util.py:887: UserWarning: [W095] Model 'fr_core_news_md' (3.1.0) was trained with spaCy v3.1 and may not be 100% compatible with the current version (3.5.1). If you see errors or degraded performance, download a newer compatible model or retrain your custom model with the current spaCy version. For more details and available updates, run: python -m spacy validate\n",
      "  warnings.warn(warn_msg)\n"
     ]
    }
   ],
   "source": [
    "import spacy\n",
    "nlp = spacy.load('fr_core_news_md')"
   ]
  },
  {
   "cell_type": "code",
   "execution_count": 22,
   "id": "893f042f",
   "metadata": {},
   "outputs": [],
   "source": [
    "seuil=0.50"
   ]
  },
  {
   "cell_type": "code",
   "execution_count": 14,
   "id": "8ec1fbf9",
   "metadata": {},
   "outputs": [],
   "source": [
    "from sklearn.pipeline import Pipeline\n",
    "from sklearn.feature_extraction.text import TfidfVectorizer\n",
    "from sklearn.preprocessing import Normalizer, StandardScaler\n",
    "from sklearn.metrics.pairwise import cosine_similarity\n",
    "import numpy as np\n",
    "import statistics\n",
    "import matplotlib.pyplot as plt"
   ]
  },
  {
   "cell_type": "code",
   "execution_count": 15,
   "id": "16f42231",
   "metadata": {},
   "outputs": [],
   "source": [
    "def traitement_sous_corpus(corpus,seuil=seuil):\n",
    "    pipeline = Pipeline([\n",
    "        ('tfidf', TfidfVectorizer(use_idf=True, norm=None)),\n",
    "    ])\n",
    "    matrice = pipeline.fit_transform(corpus)\n",
    "    cos = cosine_similarity(matrice, matrice)\n",
    "    np.fill_diagonal(cos, 0)\n",
    "    cos[cos<seuil]=0\n",
    "    return(cos[0][1:])"
   ]
  },
  {
   "cell_type": "code",
   "execution_count": 16,
   "id": "db04bda3",
   "metadata": {},
   "outputs": [],
   "source": [
    "res=traitement_sous_corpus(make_corpus_trad('/scp-180'))"
   ]
  },
  {
   "attachments": {},
   "cell_type": "markdown",
   "id": "3cfd9a61",
   "metadata": {},
   "source": [
    "## Faire ces opérations sur l'ensemble des sous-groupes"
   ]
  },
  {
   "cell_type": "code",
   "execution_count": 23,
   "id": "740e488d",
   "metadata": {},
   "outputs": [
    {
     "name": "stdout",
     "output_type": "stream",
     "text": [
      "Nb traductions :  2162\n",
      "Nb traduction qui ont effectivement une similarité élevée : 339\n",
      "Moyenne du texte max sur les traductions qui ont effectivement une similarité élevée : 0.7593144922512494\n",
      "écart-type : 0.04304573264652958\n"
     ]
    }
   ],
   "source": [
    "sum = 0\n",
    "sum_valid = 0\n",
    "total_valid_sim = []\n",
    "for trad_id in metadonnees_en['id']:\n",
    "    sous_corpus = make_corpus_trad(trad_id)\n",
    "    if sous_corpus != []:\n",
    "        sum+=1\n",
    "        cos_similarity = traitement_sous_corpus(sous_corpus)\n",
    "        max_sim = max(cos_similarity)\n",
    "        if max_sim>seuil:\n",
    "            sum_valid+=1\n",
    "            total_valid_sim+= [max_sim]\n",
    "print('Nb traductions : ',sum)\n",
    "print('Nb traduction qui ont effectivement une similarité élevée :',sum_valid)\n",
    "print('Moyenne du texte max sur les traductions qui ont effectivement une similarité élevée :',statistics.mean(total_valid_sim))\n",
    "print('écart-type :',statistics.pstdev(total_valid_sim))"
   ]
  },
  {
   "attachments": {},
   "cell_type": "markdown",
   "id": "59019b4e",
   "metadata": {},
   "source": [
    "## Faire ces opérations sur des sous-corpus aléatoires"
   ]
  },
  {
   "cell_type": "code",
   "execution_count": 27,
   "id": "afa00549",
   "metadata": {},
   "outputs": [],
   "source": [
    "import random"
   ]
  },
  {
   "cell_type": "code",
   "execution_count": 31,
   "id": "82573a09",
   "metadata": {},
   "outputs": [
    {
     "name": "stdout",
     "output_type": "stream",
     "text": [
      "Nb traductions :  2000\n",
      "Nb traduction qui ont effectivement une similarité élevée : 177\n",
      "Moyenne du texte max sur les traductions qui ont effectivement une similarité élevée : 0.7465283540835175\n",
      "écart-type : 0.037421115943572544\n"
     ]
    }
   ],
   "source": [
    "sum = 0\n",
    "sum_valid = 0\n",
    "total_valid_sim = []\n",
    "for _ in range(2000):\n",
    "    sous_corpus = [random.choice(list_textes_en)]\n",
    "    for i in range(random.choice(range(2,27))):\n",
    "        sous_corpus += [random.choice(list_textes_fr)]\n",
    "    if sous_corpus != []:\n",
    "        sum+=1\n",
    "        cos_similarity = traitement_sous_corpus(sous_corpus)\n",
    "        max_sim = max(cos_similarity)\n",
    "        if max_sim>seuil:\n",
    "            sum_valid+=1\n",
    "            total_valid_sim+= [max_sim]\n",
    "print('Nb traductions : ',sum)\n",
    "print('Nb traduction qui ont effectivement une similarité élevée :',sum_valid)\n",
    "print('Moyenne du texte max sur les traductions qui ont effectivement une similarité élevée :',statistics.mean(total_valid_sim))\n",
    "print('écart-type :',statistics.pstdev(total_valid_sim))"
   ]
  }
 ],
 "metadata": {
  "kernelspec": {
   "display_name": "Python 3 (ipykernel)",
   "language": "python",
   "name": "python3"
  },
  "language_info": {
   "codemirror_mode": {
    "name": "ipython",
    "version": 3
   },
   "file_extension": ".py",
   "mimetype": "text/x-python",
   "name": "python",
   "nbconvert_exporter": "python",
   "pygments_lexer": "ipython3",
   "version": "3.9.13"
  }
 },
 "nbformat": 4,
 "nbformat_minor": 5
}
